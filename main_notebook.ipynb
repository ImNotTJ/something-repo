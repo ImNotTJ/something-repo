{
 "cells": [
  {
   "cell_type": "code",
   "execution_count": null,
   "id": "201d7a47-c4f0-4f3b-a416-d7eec870dbe8",
   "metadata": {},
   "outputs": [],
   "source": []
  },
  {
   "cell_type": "code",
   "execution_count": 35,
   "id": "b85ebaf2-5f6a-4a4b-acc1-829a882541ff",
   "metadata": {},
   "outputs": [
    {
     "name": "stdin",
     "output_type": "stream",
     "text": [
      "Please give a name) sadgjasdgohjsdg\n"
     ]
    },
    {
     "name": "stdout",
     "output_type": "stream",
     "text": [
      "Your encrypted name is 0\u001e",
      "!$'\u001e",
      "0!$,%'0!$\n"
     ]
    }
   ],
   "source": [
    "import string\n",
    "name = input (\"Please give a name)\")\n",
    "name = name.lower()\n",
    "name_list = list(name)\n",
    "letter = \"C\"\n",
    "\n",
    "for i in range(len(name_list)):\n",
    "    if name_list[i] in list(string.ascii_lowercase):\n",
    "        name_list[i] = chr(ord(name_list[i]) - ord(letter))\n",
    "    \n",
    "new_name = \"\"\n",
    "for char in name_list:\n",
    "    new_name = new_name + char\n",
    "print(\"Your encrypted name is \" + new_name)"
   ]
  },
  {
   "cell_type": "code",
   "execution_count": null,
   "id": "93594c1a-5f28-4ea7-839a-bbef65173d8c",
   "metadata": {},
   "outputs": [],
   "source": []
  }
 ],
 "metadata": {
  "kernelspec": {
   "display_name": "Python 3 (ipykernel)",
   "language": "python",
   "name": "python3"
  },
  "language_info": {
   "codemirror_mode": {
    "name": "ipython",
    "version": 3
   },
   "file_extension": ".py",
   "mimetype": "text/x-python",
   "name": "python",
   "nbconvert_exporter": "python",
   "pygments_lexer": "ipython3",
   "version": "3.11.13"
  }
 },
 "nbformat": 4,
 "nbformat_minor": 5
}
